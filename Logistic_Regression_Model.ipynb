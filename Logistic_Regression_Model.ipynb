{
 "cells": [
  {
   "cell_type": "markdown",
   "metadata": {
    "id": "FlJEXNelTtmv"
   },
   "source": [
    "## Category: Getting Started"
   ]
  },
  {
   "cell_type": "markdown",
   "metadata": {
    "id": "KZ0bjAe4Tu8A"
   },
   "source": [
    "### Task 1: Import Modules and Libraries"
   ]
  },
  {
   "cell_type": "code",
   "execution_count": 1,
   "metadata": {
    "id": "wR7f17L3T6RC"
   },
   "outputs": [
    {
     "name": "stderr",
     "output_type": "stream",
     "text": [
      "[nltk_data] Downloading package stopwords to\n",
      "[nltk_data]     C:\\Users\\sneha\\AppData\\Roaming\\nltk_data...\n",
      "[nltk_data]   Package stopwords is already up-to-date!\n",
      "[nltk_data] Downloading package punkt to\n",
      "[nltk_data]     C:\\Users\\sneha\\AppData\\Roaming\\nltk_data...\n",
      "[nltk_data]   Package punkt is already up-to-date!\n"
     ]
    }
   ],
   "source": [
    "import pandas as pd\n",
    "import matplotlib.pyplot as plt\n",
    "import re\n",
    "import warnings\n",
    "import numpy as np\n",
    "import nltk\n",
    "from sklearn.preprocessing import normalize\n",
    "from sklearn.feature_extraction.text import CountVectorizer\n",
    "import seaborn as sns\n",
    "from sklearn.metrics import confusion_matrix\n",
    "from sklearn.metrics import accuracy_score, log_loss\n",
    "from sklearn.feature_extraction.text import TfidfVectorizer\n",
    "from sklearn.linear_model import SGDClassifier\n",
    "from collections import Counter\n",
    "from scipy.sparse import hstack\n",
    "from collections import defaultdict\n",
    "from sklearn.model_selection import train_test_split\n",
    "import math\n",
    "from sklearn.ensemble import RandomForestClassifier\n",
    "from sklearn.linear_model import LogisticRegression\n",
    "from sklearn.calibration import CalibratedClassifierCV\n",
    "\n",
    "# downloading text processing libraries\n",
    "nltk.download('stopwords')\n",
    "nltk.download('punkt')\n",
    "\n",
    "from nltk.corpus import stopwords\n",
    "from nltk.tokenize import word_tokenize\n"
   ]
  },
  {
   "cell_type": "markdown",
   "metadata": {
    "id": "ebSFv0kYVAcq"
   },
   "source": [
    "## Category: Loading Data"
   ]
  },
  {
   "cell_type": "markdown",
   "metadata": {
    "id": "i9Yt7mQLVKCB"
   },
   "source": [
    "### Task 2: Load and Explore the Genes and Variations Dataset"
   ]
  },
  {
   "cell_type": "code",
   "execution_count": 2,
   "metadata": {
    "id": "7-dYjVi4VDLC"
   },
   "outputs": [
    {
     "data": {
      "text/html": [
       "<div>\n",
       "<style scoped>\n",
       "    .dataframe tbody tr th:only-of-type {\n",
       "        vertical-align: middle;\n",
       "    }\n",
       "\n",
       "    .dataframe tbody tr th {\n",
       "        vertical-align: top;\n",
       "    }\n",
       "\n",
       "    .dataframe thead th {\n",
       "        text-align: right;\n",
       "    }\n",
       "</style>\n",
       "<table border=\"1\" class=\"dataframe\">\n",
       "  <thead>\n",
       "    <tr style=\"text-align: right;\">\n",
       "      <th></th>\n",
       "      <th>ID</th>\n",
       "      <th>Gene</th>\n",
       "      <th>Variation</th>\n",
       "      <th>Class</th>\n",
       "    </tr>\n",
       "  </thead>\n",
       "  <tbody>\n",
       "    <tr>\n",
       "      <th>0</th>\n",
       "      <td>0</td>\n",
       "      <td>FAM58A</td>\n",
       "      <td>Truncating Mutations</td>\n",
       "      <td>1</td>\n",
       "    </tr>\n",
       "    <tr>\n",
       "      <th>1</th>\n",
       "      <td>1</td>\n",
       "      <td>CBL</td>\n",
       "      <td>W802*</td>\n",
       "      <td>2</td>\n",
       "    </tr>\n",
       "    <tr>\n",
       "      <th>2</th>\n",
       "      <td>2</td>\n",
       "      <td>CBL</td>\n",
       "      <td>Q249E</td>\n",
       "      <td>2</td>\n",
       "    </tr>\n",
       "    <tr>\n",
       "      <th>3</th>\n",
       "      <td>3</td>\n",
       "      <td>CBL</td>\n",
       "      <td>N454D</td>\n",
       "      <td>3</td>\n",
       "    </tr>\n",
       "    <tr>\n",
       "      <th>4</th>\n",
       "      <td>4</td>\n",
       "      <td>CBL</td>\n",
       "      <td>L399V</td>\n",
       "      <td>4</td>\n",
       "    </tr>\n",
       "  </tbody>\n",
       "</table>\n",
       "</div>"
      ],
      "text/plain": [
       "   ID    Gene             Variation  Class\n",
       "0   0  FAM58A  Truncating Mutations      1\n",
       "1   1     CBL                 W802*      2\n",
       "2   2     CBL                 Q249E      2\n",
       "3   3     CBL                 N454D      3\n",
       "4   4     CBL                 L399V      4"
      ]
     },
     "execution_count": 2,
     "metadata": {},
     "output_type": "execute_result"
    }
   ],
   "source": [
    "variations=pd.read_csv('training_variants.txt')\n",
    "variations.shape\n",
    "variations.columns\n",
    "variations.head(5)\n",
    "variations.dtypes\n",
    "variations.nunique\n",
    "variations.head(5) "
   ]
  },
  {
   "cell_type": "markdown",
   "metadata": {
    "id": "7U-d9o3QVQry"
   },
   "source": [
    "### Task 3: Load the Text Dataset"
   ]
  },
  {
   "cell_type": "code",
   "execution_count": 3,
   "metadata": {
    "id": "sm5buZHkVpub"
   },
   "outputs": [
    {
     "name": "stderr",
     "output_type": "stream",
     "text": [
      "C:\\Users\\sneha\\AppData\\Local\\Temp\\ipykernel_14700\\390795323.py:1: ParserWarning: Falling back to the 'python' engine because the 'c' engine does not support regex separators (separators > 1 char and different from '\\s+' are interpreted as regex); you can avoid this warning by specifying engine='python'.\n",
      "  Text_data=pd.read_csv('training_text.txt',sep=\"\\|\\|\",names=[\"ID\",\"Text\"],skiprows=1)\n"
     ]
    },
    {
     "data": {
      "text/html": [
       "<div>\n",
       "<style scoped>\n",
       "    .dataframe tbody tr th:only-of-type {\n",
       "        vertical-align: middle;\n",
       "    }\n",
       "\n",
       "    .dataframe tbody tr th {\n",
       "        vertical-align: top;\n",
       "    }\n",
       "\n",
       "    .dataframe thead th {\n",
       "        text-align: right;\n",
       "    }\n",
       "</style>\n",
       "<table border=\"1\" class=\"dataframe\">\n",
       "  <thead>\n",
       "    <tr style=\"text-align: right;\">\n",
       "      <th></th>\n",
       "      <th>ID</th>\n",
       "      <th>Text</th>\n",
       "    </tr>\n",
       "  </thead>\n",
       "  <tbody>\n",
       "    <tr>\n",
       "      <th>0</th>\n",
       "      <td>0</td>\n",
       "      <td>Cyclin-dependent kinases (CDKs) regulate a var...</td>\n",
       "    </tr>\n",
       "    <tr>\n",
       "      <th>1</th>\n",
       "      <td>1</td>\n",
       "      <td>Abstract Background  Non-small cell lung canc...</td>\n",
       "    </tr>\n",
       "    <tr>\n",
       "      <th>2</th>\n",
       "      <td>2</td>\n",
       "      <td>Abstract Background  Non-small cell lung canc...</td>\n",
       "    </tr>\n",
       "    <tr>\n",
       "      <th>3</th>\n",
       "      <td>3</td>\n",
       "      <td>Recent evidence has demonstrated that acquired...</td>\n",
       "    </tr>\n",
       "    <tr>\n",
       "      <th>4</th>\n",
       "      <td>4</td>\n",
       "      <td>Oncogenic mutations in the monomeric Casitas B...</td>\n",
       "    </tr>\n",
       "  </tbody>\n",
       "</table>\n",
       "</div>"
      ],
      "text/plain": [
       "   ID                                               Text\n",
       "0   0  Cyclin-dependent kinases (CDKs) regulate a var...\n",
       "1   1   Abstract Background  Non-small cell lung canc...\n",
       "2   2   Abstract Background  Non-small cell lung canc...\n",
       "3   3  Recent evidence has demonstrated that acquired...\n",
       "4   4  Oncogenic mutations in the monomeric Casitas B..."
      ]
     },
     "execution_count": 3,
     "metadata": {},
     "output_type": "execute_result"
    }
   ],
   "source": [
    "Text_data=pd.read_csv('training_text.txt',sep=\"\\|\\|\",names=[\"ID\",\"Text\"],skiprows=1)\n",
    "Text_data.shape\n",
    "Text_data.columns.values\n",
    "Text_data.head(5)"
   ]
  },
  {
   "cell_type": "markdown",
   "metadata": {
    "id": "DCz5xHSHVqmJ"
   },
   "source": [
    "## Category: Text Pre-processing"
   ]
  },
  {
   "cell_type": "markdown",
   "metadata": {
    "id": "rkMUFnxdYeC-"
   },
   "source": [
    "### Task 4: Define the Function for Pre-processing"
   ]
  },
  {
   "cell_type": "code",
   "execution_count": 4,
   "metadata": {
    "id": "NOCVw5Y9YaJA"
   },
   "outputs": [],
   "source": [
    "stop_words=stopwords.words('english')\n",
    "def data_preprocessing(text):\n",
    "    text=re.sub('[^a-zA-Z0-9\\n]',' ',text)\n",
    "    text=re.sub('\\s+',' ',text)\n",
    "    text=text.lower()\n",
    "    words=word_tokenize(text)\n",
    "    final_words=[word for word in words if word not in stop_words]\n",
    "    final_text=' '.join(final_words)\n",
    "    return final_text\n",
    "    \n"
   ]
  },
  {
   "cell_type": "markdown",
   "metadata": {
    "id": "_WzXC5WJYoyD"
   },
   "source": [
    "### Task 5: Pre-process the Data"
   ]
  },
  {
   "cell_type": "code",
   "execution_count": 5,
   "metadata": {
    "id": "UQvb8CGbYr9M"
   },
   "outputs": [
    {
     "name": "stderr",
     "output_type": "stream",
     "text": [
      "C:\\Users\\sneha\\AppData\\Local\\Temp\\ipykernel_14700\\3426770876.py:3: SettingWithCopyWarning: \n",
      "A value is trying to be set on a copy of a slice from a DataFrame\n",
      "\n",
      "See the caveats in the documentation: https://pandas.pydata.org/pandas-docs/stable/user_guide/indexing.html#returning-a-view-versus-a-copy\n",
      "  Text_data['Text'][idx]=data_preprocessing(data['Text'])\n"
     ]
    },
    {
     "name": "stdout",
     "output_type": "stream",
     "text": [
      "Corresponding text data missing for data point number: 1109\n",
      "Corresponding text data missing for data point number: 1277\n",
      "Corresponding text data missing for data point number: 1407\n",
      "Corresponding text data missing for data point number: 1639\n",
      "Corresponding text data missing for data point number: 2755\n"
     ]
    }
   ],
   "source": [
    "for idx,data in Text_data.iterrows():\n",
    "    if isinstance(data['Text'],str):\n",
    "        Text_data['Text'][idx]=data_preprocessing(data['Text'])\n",
    "    else:\n",
    "        print(\"Corresponding text data missing for data point number:\", idx)\n"
   ]
  },
  {
   "cell_type": "markdown",
   "metadata": {
    "id": "R1fk9ZDKYsl4"
   },
   "source": [
    "### Task 6: Merge Datasets, Clean, and Impute Values"
   ]
  },
  {
   "cell_type": "code",
   "execution_count": 6,
   "metadata": {
    "id": "ewnmTSNbYvw8"
   },
   "outputs": [],
   "source": [
    "total_df=pd.merge(variations,Text_data,how='left',on='ID')\n",
    "total_df['Text']=total_df['Text'].fillna(total_df['Gene']+' '+total_df['Variation'])"
   ]
  },
  {
   "cell_type": "code",
   "execution_count": 7,
   "metadata": {},
   "outputs": [
    {
     "name": "stderr",
     "output_type": "stream",
     "text": [
      "C:\\Users\\sneha\\AppData\\Local\\Temp\\ipykernel_14700\\2241041379.py:1: FutureWarning: The default value of regex will change from True to False in a future version.\n",
      "  total_df['Gene']=total_df['Gene'].str.replace('\\s+','_')\n",
      "C:\\Users\\sneha\\AppData\\Local\\Temp\\ipykernel_14700\\2241041379.py:2: FutureWarning: The default value of regex will change from True to False in a future version.\n",
      "  total_df['Variation']=total_df['Variation'].str.replace('\\s+','_')\n"
     ]
    },
    {
     "data": {
      "text/html": [
       "<div>\n",
       "<style scoped>\n",
       "    .dataframe tbody tr th:only-of-type {\n",
       "        vertical-align: middle;\n",
       "    }\n",
       "\n",
       "    .dataframe tbody tr th {\n",
       "        vertical-align: top;\n",
       "    }\n",
       "\n",
       "    .dataframe thead th {\n",
       "        text-align: right;\n",
       "    }\n",
       "</style>\n",
       "<table border=\"1\" class=\"dataframe\">\n",
       "  <thead>\n",
       "    <tr style=\"text-align: right;\">\n",
       "      <th></th>\n",
       "      <th>ID</th>\n",
       "      <th>Gene</th>\n",
       "      <th>Variation</th>\n",
       "      <th>Class</th>\n",
       "      <th>Text</th>\n",
       "    </tr>\n",
       "  </thead>\n",
       "  <tbody>\n",
       "    <tr>\n",
       "      <th>0</th>\n",
       "      <td>0</td>\n",
       "      <td>FAM58A</td>\n",
       "      <td>Truncating_Mutations</td>\n",
       "      <td>1</td>\n",
       "      <td>cyclin dependent kinases cdks regulate variety...</td>\n",
       "    </tr>\n",
       "    <tr>\n",
       "      <th>1</th>\n",
       "      <td>1</td>\n",
       "      <td>CBL</td>\n",
       "      <td>W802*</td>\n",
       "      <td>2</td>\n",
       "      <td>abstract background non small cell lung cancer...</td>\n",
       "    </tr>\n",
       "    <tr>\n",
       "      <th>2</th>\n",
       "      <td>2</td>\n",
       "      <td>CBL</td>\n",
       "      <td>Q249E</td>\n",
       "      <td>2</td>\n",
       "      <td>abstract background non small cell lung cancer...</td>\n",
       "    </tr>\n",
       "    <tr>\n",
       "      <th>3</th>\n",
       "      <td>3</td>\n",
       "      <td>CBL</td>\n",
       "      <td>N454D</td>\n",
       "      <td>3</td>\n",
       "      <td>recent evidence demonstrated acquired uniparen...</td>\n",
       "    </tr>\n",
       "    <tr>\n",
       "      <th>4</th>\n",
       "      <td>4</td>\n",
       "      <td>CBL</td>\n",
       "      <td>L399V</td>\n",
       "      <td>4</td>\n",
       "      <td>oncogenic mutations monomeric casitas b lineag...</td>\n",
       "    </tr>\n",
       "  </tbody>\n",
       "</table>\n",
       "</div>"
      ],
      "text/plain": [
       "   ID    Gene             Variation  Class  \\\n",
       "0   0  FAM58A  Truncating_Mutations      1   \n",
       "1   1     CBL                 W802*      2   \n",
       "2   2     CBL                 Q249E      2   \n",
       "3   3     CBL                 N454D      3   \n",
       "4   4     CBL                 L399V      4   \n",
       "\n",
       "                                                Text  \n",
       "0  cyclin dependent kinases cdks regulate variety...  \n",
       "1  abstract background non small cell lung cancer...  \n",
       "2  abstract background non small cell lung cancer...  \n",
       "3  recent evidence demonstrated acquired uniparen...  \n",
       "4  oncogenic mutations monomeric casitas b lineag...  "
      ]
     },
     "execution_count": 7,
     "metadata": {},
     "output_type": "execute_result"
    }
   ],
   "source": [
    "total_df['Gene']=total_df['Gene'].str.replace('\\s+','_')\n",
    "total_df['Variation']=total_df['Variation'].str.replace('\\s+','_')\n",
    "total_df.head()"
   ]
  },
  {
   "cell_type": "markdown",
   "metadata": {
    "id": "ra4fhc6TZVSS"
   },
   "source": [
    "## Category: Train-test Split"
   ]
  },
  {
   "cell_type": "markdown",
   "metadata": {
    "id": "gHg0VvPvZcNg"
   },
   "source": [
    "### Task 7: Perform Train-test Split"
   ]
  },
  {
   "cell_type": "code",
   "execution_count": 8,
   "metadata": {
    "id": "Nv_TPnUsZatY"
   },
   "outputs": [],
   "source": [
    "init_train_df,test_df=train_test_split(total_df,test_size=0.2, stratify=total_df['Class'])\n",
    "train_df, cv_df = train_test_split(init_train_df, test_size=0.2, stratify=init_train_df['Class'])\n",
    "# Extract the target variables\n",
    "y_train = train_df['Class'].values\n",
    "y_cv = cv_df['Class'].values\n",
    "y_test = test_df['Class'].values\n",
    "\n",
    "# Drop the 'Class' column from the datasets\n",
    "x_train = train_df.drop(columns=['Class'])\n",
    "x_cv = cv_df.drop(columns=['Class'])\n",
    "x_test = test_df.drop(columns=['Class'])"
   ]
  },
  {
   "cell_type": "markdown",
   "metadata": {
    "id": "sgJTtpyhZphi"
   },
   "source": [
    "### Task 8: Check Distribution of Dataset"
   ]
  },
  {
   "cell_type": "code",
   "execution_count": 9,
   "metadata": {
    "id": "IR-FaamGZqXr"
   },
   "outputs": [
    {
     "data": {
      "image/png": "[encoded data removed]",
      "text/plain": [
       "<Figure size 432x288 with 1 Axes>"
      ]
     },
     "metadata": {
      "needs_background": "light"
     },
     "output_type": "display_data"
    },
    {
     "data": {
      "image/png": "[encoded data removed]",
      "text/plain": [
       "<Figure size 432x288 with 1 Axes>"
      ]
     },
     "metadata": {
      "needs_background": "light"
     },
     "output_type": "display_data"
    },
    {
     "data": {
      "image/png": "[encoded data removed]",
      "text/plain": [
       "<Figure size 432x288 with 1 Axes>"
      ]
     },
     "metadata": {
      "needs_background": "light"
     },
     "output_type": "display_data"
    }
   ],
   "source": [
    "train_df['Class'].value_counts().plot(kind=\"bar\")\n",
    "plt.xlabel('Class')\n",
    "plt.ylabel('No. of data points')\n",
    "plt.title('Training data class distribution')\n",
    "plt.show()\n",
    "\n",
    "test_df['Class'].value_counts().plot(kind=\"bar\")\n",
    "plt.xlabel('Class')\n",
    "plt.ylabel('No. of data points')\n",
    "plt.title('Test data class distribution')\n",
    "plt.show()\n",
    "\n",
    "cv_df['Class'].value_counts().plot(kind=\"bar\")\n",
    "plt.xlabel('Class')\n",
    "plt.ylabel('No. of data points')\n",
    "plt.title('Cross validation data class distribution')\n",
    "plt.show()"
   ]
  },
  {
   "cell_type": "markdown",
   "metadata": {
    "id": "mtvl8ImIZt-C"
   },
   "source": [
    "## Category: Measure Performance Using Random Model"
   ]
  },
  {
   "cell_type": "markdown",
   "metadata": {
    "id": "Oi5cb5c-aSsE"
   },
   "source": [
    "### Task 9: Define a Function to Plot Performance Matrices"
   ]
  },
  {
   "cell_type": "code",
   "execution_count": 10,
   "metadata": {
    "id": "hQ1CRPblaMay"
   },
   "outputs": [],
   "source": [
    "def plot_heatmap(matrix, labels, title):\n",
    "    plt.figure()\n",
    "    sns.heatmap(matrix, annot=True, xticklabels=labels, yticklabels=labels)\n",
    "    plt.xlabel('Predicted Class')\n",
    "    plt.ylabel('Original Class')\n",
    "    plt.title(title)\n",
    "    plt.show()\n",
    "\n",
    "\n",
    "def plot_confusion_matrix(test_y, predict_y):\n",
    "    C = confusion_matrix(test_y, predict_y)\n",
    "    labels = [1, 2, 3, 4, 5, 6, 7, 8, 9]\n",
    "\n",
    "    # Calculate the recall matrix\n",
    "    recall_matrix = C / C.sum(axis=1, keepdims=True)\n",
    "\n",
    "    # Calculate the precision matrix\n",
    "    precision_matrix = C / C.sum(axis=0, keepdims=True)\n",
    "\n",
    "    # Plot the confusion matrix\n",
    "    plot_heatmap(C, labels, \"Confusion matrix\")\n",
    "\n",
    "    # Plot the precision matrix\n",
    "    plot_heatmap(precision_matrix, labels, \"Precision matrix (sum of elements in a column=1)\")\n",
    "\n",
    "    # Plot the recall matrix\n",
    "    plot_heatmap(recall_matrix, labels, \"Recall matrix (sum of elements in a row=1)\")"
   ]
  },
  {
   "cell_type": "markdown",
   "metadata": {
    "id": "mn44IC4faUda"
   },
   "source": [
    "### Task 10: Measure Metrics from a Dummy Baseline Model"
   ]
  },
  {
   "cell_type": "code",
   "execution_count": 11,
   "metadata": {
    "id": "9QiAcc9daXw6"
   },
   "outputs": [
    {
     "name": "stdout",
     "output_type": "stream",
     "text": [
      "Log loss on Cross Validation Data using Random Model: 2.4796055430598507\n",
      "Log loss on Test Data using Random Model: 2.4389813969714345\n",
      "Performance matrices for test data\n"
     ]
    },
    {
     "data": {
      "image/png": "[encoded data removed]",
      "text/plain": [
       "<Figure size 432x288 with 2 Axes>"
      ]
     },
     "metadata": {
      "needs_background": "light"
     },
     "output_type": "display_data"
    },
    {
     "data": {
      "image/png": "[encoded data removed]",
      "text/plain": [
       "<Figure size 432x288 with 2 Axes>"
      ]
     },
     "metadata": {
      "needs_background": "light"
     },
     "output_type": "display_data"
    },
    {
     "data": {
      "image/png": "[encoded data removed]",
      "text/plain": [
       "<Figure size 432x288 with 2 Axes>"
      ]
     },
     "metadata": {
      "needs_background": "light"
     },
     "output_type": "display_data"
    }
   ],
   "source": [
    "def generate_random_predictions(data_len):\n",
    "    predicted_y = np.zeros((data_len, 9))\n",
    "    for i in range(data_len):\n",
    "        rand_probs = np.random.rand(1, 9)\n",
    "        predicted_y[i] = rand_probs / rand_probs.sum()\n",
    "    return predicted_y\n",
    "\n",
    "cv_data_len = cv_df.shape[0]\n",
    "test_data_len = test_df.shape[0]\n",
    "\n",
    "# Generate random predictions for CV data\n",
    "cv_predicted_y = generate_random_predictions(cv_data_len)\n",
    "print(\"Log loss on Cross Validation Data using Random Model:\", log_loss(y_cv, cv_predicted_y))\n",
    "\n",
    "# Generate random predictions for test data\n",
    "test_predicted_y = generate_random_predictions(test_data_len)\n",
    "print(\"Log loss on Test Data using Random Model:\", log_loss(y_test, test_predicted_y))\n",
    "\n",
    "# Plot performance matrix for test data\n",
    "predicted_y = np.argmax(test_predicted_y, axis=1)\n",
    "print (\"Performance matrices for test data\")\n",
    "plot_confusion_matrix(y_test, predicted_y + 1)"
   ]
  },
  {
   "cell_type": "markdown",
   "metadata": {
    "id": "vjaegnP0aa8y"
   },
   "source": [
    "## Category: Encode the Features"
   ]
  },
  {
   "cell_type": "markdown",
   "metadata": {
    "id": "4vakqJ5yaif0"
   },
   "source": [
    "### Task 11: Define the Functions for Response Coding"
   ]
  },
  {
   "cell_type": "code",
   "execution_count": 12,
   "metadata": {
    "id": "mrqDtGqkahdQ"
   },
   "outputs": [],
   "source": [
    "def extract_response_coding_probs(alpha, feature, df):\n",
    "    total_classes = 9\n",
    "    # Group the DataFrame by the feature and Class cloumns and get counts\n",
    "    grouped = df.groupby([feature, 'Class']).size().reset_index(name='count')\n",
    "    \n",
    "    response_code_probs = {}\n",
    "    feature_counts = df[feature].value_counts().to_dict()\n",
    "\n",
    "    for value in feature_counts:\n",
    "        value_group = grouped[grouped[feature] == value]\n",
    "        class_probs = []\n",
    "        for k in range(1, total_classes + 1):\n",
    "            # Check if the current class exists for the current feature value\n",
    "            if k in value_group['Class'].values:\n",
    "                count = value_group[value_group['Class'] == k]['count'].values[0]\n",
    "            else:\n",
    "                count = 0\n",
    "\n",
    "            numerator = count + alpha\n",
    "            denominator = feature_counts[value] + total_classes * alpha\n",
    "            class_probs.append(numerator / denominator)\n",
    "        response_code_probs[value] = class_probs\n",
    "\n",
    "    return response_code_probs"
   ]
  },
  {
   "cell_type": "code",
   "execution_count": 13,
   "metadata": {},
   "outputs": [],
   "source": [
    "def generate_response_coded_feature(feature, df, response_code_probs):\n",
    "    total_classes = 9\n",
    "    default_prob = [1 / total_classes] * total_classes\n",
    "\n",
    "    # Use the map() method to map the values of the feature column to the corresponding probabilities.\n",
    "    # The get() method on the response_code_probs dictionary allows you to specify the default_prob as a fallback.\n",
    "    response_coded_feature = df[feature].map(lambda x: response_code_probs.get(x, default_prob))\n",
    "\n",
    "    return response_coded_feature.tolist()"
   ]
  },
  {
   "cell_type": "markdown",
   "metadata": {
    "id": "dD5cWIZmbBok"
   },
   "source": [
    "### Task 12: Run the Function on 'Gene' and 'Variation' Features"
   ]
  },
  {
   "cell_type": "code",
   "execution_count": 14,
   "metadata": {
    "id": "TNAxtl3zbLfd"
   },
   "outputs": [
    {
     "name": "stdout",
     "output_type": "stream",
     "text": [
      "[[0.1 0.1 0.1 ... 0.1 0.1 0.1]\n",
      " [0.1 0.1 0.1 ... 0.1 0.1 0.2]\n",
      " [0.2 0.1 0.1 ... 0.1 0.1 0.1]\n",
      " ...\n",
      " [0.2 0.1 0.1 ... 0.1 0.1 0.1]\n",
      " [0.1 0.1 0.1 ... 0.1 0.1 0.1]\n",
      " [0.1 0.1 0.1 ... 0.1 0.1 0.1]]\n"
     ]
    }
   ],
   "source": [
    "alpha = 1\n",
    "\n",
    "gene_dict = extract_response_coding_probs(alpha, 'Gene', train_df)\n",
    "#print(gene_dict)\n",
    "\n",
    "# Train the Gene feature\n",
    "train_gene_rc = np.array(generate_response_coded_feature(\"Gene\", train_df, gene_dict))\n",
    "# Test the Gene feature\n",
    "test_gene_rc = np.array(generate_response_coded_feature(\"Gene\", test_df, gene_dict))\n",
    "# Cross validate the Gene feature\n",
    "cv_gene_rc = np.array(generate_response_coded_feature(\"Gene\", cv_df, gene_dict))\n",
    "\n",
    "variation_dict=extract_response_coding_probs(alpha, 'Variation', train_df)\n",
    "#print(variation_dict)\n",
    "\n",
    "# Train the Variation feature\n",
    "train_variation_rc = np.array(generate_response_coded_feature(\"Variation\", train_df, variation_dict))\n",
    "# Test the Variation feature\n",
    "test_variation_rc = np.array(generate_response_coded_feature(\"Variation\", test_df, variation_dict))\n",
    "# Cross validate the Variation feature\n",
    "cv_variation_rc = np.array(generate_response_coded_feature(\"Variation\", cv_df, variation_dict))\n",
    "\n",
    "print(train_variation_rc)"
   ]
  },
  {
   "cell_type": "markdown",
   "metadata": {
    "id": "NkQkPDLJbMfI"
   },
   "source": [
    "### Task 13: Count Words in Text Field"
   ]
  },
  {
   "cell_type": "code",
   "execution_count": 15,
   "metadata": {
    "id": "Zz41UsHhbPuU"
   },
   "outputs": [],
   "source": [
    "def extract_counter(cls_text):\n",
    "    # Use the apply() method to split each row's 'TEXT' into a list of words and then concatenate those lists\n",
    "    all_words = cls_text['Text'].apply(lambda x: x.split()).explode().tolist()\n",
    " \n",
    "    # Use the Counter() method to count the occurrences of each word\n",
    "    word_count = Counter(all_words)\n",
    " \n",
    "    return word_count"
   ]
  },
  {
   "cell_type": "code",
   "execution_count": 16,
   "metadata": {},
   "outputs": [],
   "source": [
    "dict_list = []\n",
    "# dict_list is a list containing 9 dictionaries, each corresponding to a class\n",
    "for i in range(1,10):\n",
    "    cls_text = train_df[train_df['Class']==i]\n",
    "    dict_list.append(extract_counter(cls_text))\n",
    "\n",
    "# total_dict is built on the entire training text data\n",
    "total_dict = extract_counter(train_df)"
   ]
  },
  {
   "cell_type": "markdown",
   "metadata": {
    "id": "_fZvJgWwbQTl"
   },
   "source": [
    "### Task 14: Define a Function for Response Coding"
   ]
  },
  {
   "cell_type": "code",
   "execution_count": 17,
   "metadata": {
    "id": "hS1bpCoBbTi8"
   },
   "outputs": [],
   "source": [
    "def generate_text_responsecoding(df, dict_list, total_dict, alpha):\n",
    "    num_classes = 9  # Number of classes\n",
    "    num_rows = df.shape[0]  # Number of rows in the DataFrame\n",
    "\n",
    "    # Initialize a zeros array with shape (num_rows, num_classes)\n",
    "    text_feature_rc = np.zeros((num_rows, num_classes))\n",
    "\n",
    "    # Split the Text column into lists of words\n",
    "    df['split_text'] = df['Text'].apply(lambda x: x.split())\n",
    "\n",
    "    # Calculate response coding for each class\n",
    "    for i in range(num_classes):\n",
    "        row_index = 0\n",
    "        for split_text in df['split_text']:\n",
    "            # Use list comprehension and the map() method to apply the log probability calculations\n",
    "            sum_prob = sum(\n",
    "                map(\n",
    "                    lambda word: math.log((dict_list[i].get(word, 0) + alpha) / (total_dict.get(word, 0) + 9*alpha)),\n",
    "                    split_text\n",
    "                )\n",
    "            )\n",
    "            # Calculate the final value for each row and class\n",
    "            text_feature_rc[row_index, i] = math.exp(sum_prob / len(split_text))\n",
    "            row_index += 1\n",
    " \n",
    "            df.drop(['split_text'], axis=1)\n",
    "           \n",
    "    return text_feature_rc"
   ]
  },
  {
   "cell_type": "markdown",
   "metadata": {
    "id": "8jxtnUiUbUQJ"
   },
   "source": [
    "### Task 15: Run the Function on Text Field"
   ]
  },
  {
   "cell_type": "code",
   "execution_count": 18,
   "metadata": {
    "id": "ywMyw8YdbXYF"
   },
   "outputs": [],
   "source": [
    "alpha = 10\n",
    "\n",
    "train_text_rc  = generate_text_responsecoding(train_df, dict_list, total_dict, alpha)\n",
    "test_text_rc  = generate_text_responsecoding(test_df, dict_list, total_dict, alpha)\n",
    "cv_text_rc  = generate_text_responsecoding(cv_df, dict_list, total_dict, alpha)"
   ]
  },
  {
   "cell_type": "markdown",
   "metadata": {
    "id": "-2vnutLybZC0"
   },
   "source": [
    "### Task 16: One-hot Encode the Features"
   ]
  },
  {
   "cell_type": "code",
   "execution_count": 19,
   "metadata": {
    "id": "m4Ufm7iRbb-m"
   },
   "outputs": [],
   "source": [
    "# One-hot encoding the Gene feature\n",
    "gene_vectorizer = CountVectorizer()\n",
    "train_gene_oh = gene_vectorizer.fit_transform(train_df['Gene'])\n",
    "test_gene_oh = gene_vectorizer.transform(test_df['Gene'])\n",
    "cv_gene_oh = gene_vectorizer.transform(cv_df['Gene'])\n",
    "\n",
    "# One-hot encoding the Variation feature\n",
    "variation_vectorizer = CountVectorizer()\n",
    "train_variation_oh = variation_vectorizer.fit_transform(train_df['Variation'])\n",
    "test_variation_oh = variation_vectorizer.transform(test_df['Variation'])\n",
    "cv_variation_oh = variation_vectorizer.transform(cv_df['Variation'])\n",
    "\n",
    "# One-hot encoding the Text feature\n",
    "text_vectorizer = CountVectorizer(min_df=3)\n",
    "train_text_oh = text_vectorizer.fit_transform(train_df['Text']) # A minimum degree of freedom 3 is used to ensure that extremely rare words are not included while training\n",
    "\n",
    "test_text_oh = text_vectorizer.transform(test_df['Text'])\n",
    "cv_text_oh = text_vectorizer.transform(cv_df['Text'])"
   ]
  },
  {
   "cell_type": "markdown",
   "metadata": {
    "id": "wVavpF2Cbdu_"
   },
   "source": [
    "### Task 17: Normalizing the Text Feature"
   ]
  },
  {
   "cell_type": "code",
   "execution_count": 20,
   "metadata": {
    "id": "CfntjIZWbhAY"
   },
   "outputs": [],
   "source": [
    "train_text_oh = normalize(train_text_oh, axis=0)\n",
    "test_text_oh = normalize(test_text_oh, axis=0)\n",
    "cv_text_oh = normalize(cv_text_oh, axis=0)\n",
    "\n",
    "train_text_rc = normalize(train_text_rc, axis=1, norm='l1')\n",
    "test_text_rc = normalize(test_text_rc, axis=1, norm='l1')\n",
    "cv_text_rc = normalize(cv_text_rc, axis=1, norm='l1')"
   ]
  },
  {
   "cell_type": "markdown",
   "metadata": {
    "id": "F1o_IjQ-bmk8"
   },
   "source": [
    "## Category: Check Feature Importances"
   ]
  },
  {
   "cell_type": "markdown",
   "metadata": {
    "id": "V8nm179ebs1i"
   },
   "source": [
    "### Task 18: Train Single Feature Models"
   ]
  },
  {
   "cell_type": "code",
   "execution_count": 21,
   "metadata": {
    "id": "c6ZOXVlWbpSY"
   },
   "outputs": [
    {
     "name": "stdout",
     "output_type": "stream",
     "text": [
      "1.233775320450614\n",
      "1.728867797687939\n",
      "1.1157393672224973\n"
     ]
    }
   ],
   "source": [
    "gene_log_error_array = []\n",
    "alpha = 0.001\n",
    "\n",
    "clf = SGDClassifier(alpha=alpha, penalty='l2', loss='log_loss', random_state=42)\n",
    "clf.fit(train_gene_oh, y_train)\n",
    "sig_clf = CalibratedClassifierCV(clf, method=\"sigmoid\", cv=\"prefit\")\n",
    "sig_clf.fit(cv_gene_oh, y_cv)\n",
    "predict_array = sig_clf.predict_proba(cv_gene_oh)\n",
    "gene_log_error=log_loss(y_cv, predict_array, labels=clf.classes_)\n",
    "print (gene_log_error)\n",
    "\n",
    "variation_log_error_array = []\n",
    "\n",
    "clf = SGDClassifier(alpha=alpha, penalty='l2', loss='log_loss', random_state=42)\n",
    "clf.fit(train_variation_oh, y_train)\n",
    "sig_clf = CalibratedClassifierCV(clf, method=\"sigmoid\", cv=\"prefit\")\n",
    "sig_clf.fit(cv_variation_oh, y_cv)\n",
    "predict_array = sig_clf.predict_proba(cv_variation_oh)\n",
    "variation_log_error=log_loss(y_cv, predict_array, labels=clf.classes_)\n",
    "print (variation_log_error)\n",
    "\n",
    "text_log_error_array = []\n",
    "\n",
    "clf = SGDClassifier(alpha=alpha, penalty='l2', loss='log_loss', random_state=42)\n",
    "clf.fit(train_text_oh, y_train)\n",
    "sig_clf = CalibratedClassifierCV(clf, method=\"sigmoid\", cv=\"prefit\")\n",
    "sig_clf.fit(cv_text_oh, y_cv)\n",
    "predict_array = sig_clf.predict_proba(cv_text_oh)\n",
    "text_log_error=log_loss(y_cv, predict_array, labels=clf.classes_)\n",
    "print (text_log_error)"
   ]
  },
  {
   "cell_type": "markdown",
   "metadata": {
    "id": "WDLfRfGYqxVn"
   },
   "source": [
    "## Category: Model Training"
   ]
  },
  {
   "cell_type": "markdown",
   "metadata": {
    "id": "xDr0p8Wmq4Ta"
   },
   "source": [
    "### Task 19: Stack the Features"
   ]
  },
  {
   "cell_type": "code",
   "execution_count": 22,
   "metadata": {
    "id": "sfiWdeW9q3HQ"
   },
   "outputs": [],
   "source": [
    "train_gene_var_oh = hstack((train_gene_oh, train_variation_oh))\n",
    "test_gene_var_oh = hstack((test_gene_oh, test_variation_oh))\n",
    "cv_gene_var_oh = hstack((cv_gene_oh, cv_variation_oh))\n",
    "\n",
    "train_x_oh = hstack((train_gene_var_oh, train_text_oh)).tocsr()\n",
    "test_x_oh = hstack((test_gene_var_oh, test_text_oh)).tocsr()\n",
    "cv_x_oh = hstack((cv_gene_var_oh, cv_text_oh)).tocsr()\n",
    "\n",
    "train_gene_var_rc = np.hstack((train_gene_rc, train_variation_rc))\n",
    "test_gene_var_rc = np.hstack((test_gene_rc, test_variation_rc))\n",
    "cv_gene_var_rc = np.hstack((cv_gene_rc, cv_variation_rc))\n",
    "\n",
    "train_x_rc = np.hstack((train_gene_var_rc, train_text_rc))\n",
    "test_x_rc = np.hstack((test_gene_var_rc, test_text_rc))\n",
    "cv_x_rc = np.hstack((cv_gene_var_rc, cv_text_rc))\n",
    "\n",
    "train_y = np.array(list(train_df['Class']))\n",
    "test_y = np.array(list(test_df['Class']))\n",
    "cv_y = np.array(list(cv_df['Class']))"
   ]
  },
  {
   "cell_type": "markdown",
   "metadata": {
    "id": "f_qefrq8rMfE"
   },
   "source": [
    "### Task 20: Train a Logistic Regression Model"
   ]
  },
  {
   "cell_type": "code",
   "execution_count": 26,
   "metadata": {
    "id": "sT0cSGsJrPzJ",
    "scrolled": true
   },
   "outputs": [
    {
     "name": "stdout",
     "output_type": "stream",
     "text": [
      "for alpha = 0.0001\n",
      "Log Loss : 1.0798649702288698\n",
      "for alpha = 0.001\n",
      "Log Loss : 1.0376303270672111\n",
      "for alpha = 0.01\n",
      "Log Loss : 1.1567670238406496\n",
      "for alpha = 0.1\n",
      "Log Loss : 1.542621650833605\n",
      "for alpha = 1.0\n",
      "Log Loss : 1.701764440537983\n",
      "for alpha = 10.0\n",
      "Log Loss : 1.7219024532998126\n",
      "for alpha = 100.0\n",
      "Log Loss : 1.724010440102097\n",
      "For values of best alpha = 0.001 The test log loss is: 1.0904335806624668\n"
     ]
    }
   ],
   "source": [
    "# Function to compute the log-loss for a range of alpha values\n",
    "def compute_log_loss_for_alphas(train_x, train_y, cv_x, cv_y, alpha_range):\n",
    "    log_error_array = []\n",
    "\n",
    "    for alpha_value in alpha_range:\n",
    "        print(\"for alpha =\", alpha_value)\n",
    "\n",
    "        # Initialize and fit SGDClassifier\n",
    "        classifier = SGDClassifier(class_weight='balanced', alpha=alpha_value, penalty='l2', loss='log_loss', random_state=42)\n",
    "        classifier.fit(train_x, train_y)\n",
    "\n",
    "        # Calibrate the classifier and fit it\n",
    "        calibrated_classifier = CalibratedClassifierCV(classifier, method=\"sigmoid\",cv=\"prefit\")\n",
    "        calibrated_classifier.fit(cv_x, cv_y)\n",
    "\n",
    "        # Predict probabilities and calculate the log-loss\n",
    "        predicted_probs = calibrated_classifier.predict_proba(cv_x)\n",
    "        log_loss_value = log_loss(cv_y, predicted_probs, labels=classifier.classes_)\n",
    "        log_error_array.append(log_loss_value)\n",
    "\n",
    "        print(\"Log Loss :\", log_loss_value)\n",
    "\n",
    "    return log_error_array\n",
    "\n",
    "# Define alpha values\n",
    "alpha_values = np.logspace(-4, 2, num=7, base=10).tolist()\n",
    "\n",
    "# Compute the log-loss for each alpha\n",
    "cv_log_error_array = compute_log_loss_for_alphas(train_x_oh, train_y, cv_x_oh, cv_y, alpha_values)\n",
    "\n",
    "# Find the best alpha and retrain the model\n",
    "best_alpha_index = np.argmin(cv_log_error_array)\n",
    "best_alpha = alpha_values[best_alpha_index]\n",
    "final_clf = SGDClassifier(class_weight='balanced', alpha=best_alpha, penalty='l2', loss='log_loss', random_state=42)\n",
    "final_clf.fit(train_x_oh, train_y)\n",
    "\n",
    "# Calibrate and fit the final classifier\n",
    "final_sig_clf = CalibratedClassifierCV(final_clf, method=\"sigmoid\",cv=\"prefit\")\n",
    "final_sig_clf.fit(cv_x_oh, cv_y)\n",
    "\n",
    "# Predict on test data and calculate the log-loss\n",
    "final_predictions = final_sig_clf.predict_proba(test_x_oh)\n",
    "test_log_loss = log_loss(y_test, final_predictions, labels=final_clf.classes_)\n",
    "\n",
    "print('For values of best alpha =', best_alpha, \"The test log loss is:\", test_log_loss)"
   ]
  },
  {
   "cell_type": "markdown",
   "metadata": {
    "id": "YpH1HNtlrTxz"
   },
   "source": []
  },
  {
   "cell_type": "code",
   "execution_count": null,
   "metadata": {
    "id": "b2qMLUZqrbUA"
   },
   "outputs": [],
   "source": []
  }
 ],
 "metadata": {
  "colab": {
   "provenance": []
  },
  "kernelspec": {
   "display_name": "Python 3 (ipykernel)",
   "language": "python",
   "name": "python3"
  },
  "language_info": {
   "codemirror_mode": {
    "name": "ipython",
    "version": 3
   },
   "file_extension": ".py",
   "mimetype": "text/x-python",
   "name": "python",
   "nbconvert_exporter": "python",
   "pygments_lexer": "ipython3",
   "version": "3.9.12"
  },
  "vscode": {
   "interpreter": {
    "hash": "916dbcbb3f70747c44a77c7bcd40155683ae19c65e1c03b4aa3499c5328201f1"
   }
  }
 },
 "nbformat": 4,
 "nbformat_minor": 1
}
